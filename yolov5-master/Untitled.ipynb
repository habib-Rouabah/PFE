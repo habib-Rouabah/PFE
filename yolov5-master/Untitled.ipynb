{
 "cells": [
  {
   "cell_type": "code",
   "execution_count": 1,
   "id": "dffc6591",
   "metadata": {},
   "outputs": [],
   "source": [
    "import torch\n",
    "import cv2\n",
    "from PIL import Image\n",
    "import matplotlib.pyplot as plt\n",
    "import os\n",
    "import numpy as np"
   ]
  },
  {
   "cell_type": "code",
   "execution_count": 2,
   "id": "a3919df0",
   "metadata": {},
   "outputs": [
    {
     "data": {
      "text/plain": [
       "\"\\n# Load YOLOv5 model\\nmodel = torch.hub.load('ultralytics/yolov5', 'yolov5s', pretrained=True)\\n\\n# Set device (CPU/GPU)\\ndevice = torch.device('cuda') if torch.cuda.is_available() else torch.device('cpu')\\nmodel.to(device)\\n\\n# Convert image to numpy array\\nimg_array = cv2.cvtColor(cv2.imread('data/images/bus.jpg'), cv2.COLOR_BGR2RGB)\\n\\n# Detect objects\\nresults = model(img_array)\\n\\n# Print results\\nprint(results.pandas().xyxy[0])\\n\\n# Visualize results\\nresults.show()\\n\""
      ]
     },
     "execution_count": 2,
     "metadata": {},
     "output_type": "execute_result"
    }
   ],
   "source": [
    "\n",
    "\n",
    "\n",
    "\"\"\"\n",
    "# Load YOLOv5 model\n",
    "model = torch.hub.load('ultralytics/yolov5', 'yolov5s', pretrained=True)\n",
    "\n",
    "# Set device (CPU/GPU)\n",
    "device = torch.device('cuda') if torch.cuda.is_available() else torch.device('cpu')\n",
    "model.to(device)\n",
    "\n",
    "# Convert image to numpy array\n",
    "img_array = cv2.cvtColor(cv2.imread('data/images/bus.jpg'), cv2.COLOR_BGR2RGB)\n",
    "\n",
    "# Detect objects\n",
    "results = model(img_array)\n",
    "\n",
    "# Print results\n",
    "print(results.pandas().xyxy[0])\n",
    "\n",
    "# Visualize results\n",
    "results.show()\n",
    "\"\"\""
   ]
  },
  {
   "cell_type": "code",
   "execution_count": 3,
   "id": "6dea769c",
   "metadata": {},
   "outputs": [
    {
     "data": {
      "text/plain": [
       "'\\ntensor=results.xyxy[0]\\nmask = tensor[:, -1] == 0\\n\\nrows_with_zero = tensor[mask]\\n\\n# Get first four columns of rows where last column equals 0\\nresu1 = rows_with_zero[:, :4]\\n\\nb=resu1.numpy()\\n\\n\\nb.reshape(-1)    \\n'"
      ]
     },
     "execution_count": 3,
     "metadata": {},
     "output_type": "execute_result"
    }
   ],
   "source": [
    "\"\"\"\n",
    "tensor=results.xyxy[0]\n",
    "mask = tensor[:, -1] == 0\n",
    "\n",
    "rows_with_zero = tensor[mask]\n",
    "\n",
    "# Get first four columns of rows where last column equals 0\n",
    "resu1 = rows_with_zero[:, :4]\n",
    "\n",
    "b=resu1.numpy()\n",
    "\n",
    "\n",
    "b.reshape(-1)    \n",
    "\"\"\""
   ]
  },
  {
   "cell_type": "code",
   "execution_count": 4,
   "id": "0d2793a9",
   "metadata": {},
   "outputs": [
    {
     "data": {
      "text/plain": [
       "'\\nimg=cv2.imread(\"data/images/bus.jpg\")\\ncolor = (0, 255, 0)\\nthickness = 2\\nfor i in resu1:\\n    \\n    start_point = (int(i[0]), int(i[1]))\\n    end_point = (int(i[2]), int(i[3]))\\n    cv2.rectangle(img, start_point, end_point, color, thickness)\\n\\n# show the image\\ncv2.imshow(\"Bounding Box\", img)\\ncv2.waitKey(0)\\ncv2.destroyAllWindows()\\n'"
      ]
     },
     "execution_count": 4,
     "metadata": {},
     "output_type": "execute_result"
    }
   ],
   "source": [
    "\"\"\"\n",
    "img=cv2.imread(\"data/images/bus.jpg\")\n",
    "color = (0, 255, 0)\n",
    "thickness = 2\n",
    "for i in resu1:\n",
    "    \n",
    "    start_point = (int(i[0]), int(i[1]))\n",
    "    end_point = (int(i[2]), int(i[3]))\n",
    "    cv2.rectangle(img, start_point, end_point, color, thickness)\n",
    "\n",
    "# show the image\n",
    "cv2.imshow(\"Bounding Box\", img)\n",
    "cv2.waitKey(0)\n",
    "cv2.destroyAllWindows()\n",
    "\"\"\""
   ]
  },
  {
   "cell_type": "code",
   "execution_count": 5,
   "id": "736f43f2",
   "metadata": {},
   "outputs": [],
   "source": [
    "\n",
    "\n",
    "\n",
    "# Définir le chemin du dossier racine contenant les vidéos\n",
    "root_folder = 'dataset/train'\n",
    "\n",
    "# Définir le chemin du dossier de destination pour les images extraites\n",
    "output_folder = 'dataset/output/'\n",
    "\n"
   ]
  },
  {
   "cell_type": "code",
   "execution_count": 6,
   "id": "615b9963",
   "metadata": {},
   "outputs": [
    {
     "data": {
      "text/plain": [
       "'\\n# Loop through all AVI video files in the dataset\\nfor video_file in os.listdir(dataset_path):\\n    if video_file.endswith(\".avi\"):\\n        # Open the video file\\n        video_path = os.path.join(dataset_path, video_file)\\n        video = cv2.VideoCapture(video_path)\\n\\n        # Get the frames per second (fps) and the total number of frames\\n        fps = video.get(cv2.CAP_PROP_FPS)\\n        total_frames = int(video.get(cv2.CAP_PROP_FRAME_COUNT))\\n        \\n        \\n        video_name = os.path.basename(video_path)\\n        partie_a_supp=\".avi\"\\n        nv_nom_video=video_name.replace(partie_a_supp,\"\")\\n        nv_folder=os.path.join(output_folder,video_name)\\n        os.mkdir(nv_folder)\\n            \\n       \\n        # Loop through the video and extract each frame\\n        for frame_num in range(total_frames):\\n            # Read the frame\\n            ret, frame = video.read()\\n\\n            # If the frame is not valid, break the loop\\n            if not ret:\\n                break\\n\\n            # Save the frame as an image file\\n          \\n            frame_file = os.path.join(nv_folder, f\"{frame_num}.jpg\")\\n            cv2.imwrite(frame_file, frame)\\n\\n        # Release the video file\\n        video.release()\\n '"
      ]
     },
     "execution_count": 6,
     "metadata": {},
     "output_type": "execute_result"
    }
   ],
   "source": [
    "\"\"\"\n",
    "# Loop through all AVI video files in the dataset\n",
    "for video_file in os.listdir(dataset_path):\n",
    "    if video_file.endswith(\".avi\"):\n",
    "        # Open the video file\n",
    "        video_path = os.path.join(dataset_path, video_file)\n",
    "        video = cv2.VideoCapture(video_path)\n",
    "\n",
    "        # Get the frames per second (fps) and the total number of frames\n",
    "        fps = video.get(cv2.CAP_PROP_FPS)\n",
    "        total_frames = int(video.get(cv2.CAP_PROP_FRAME_COUNT))\n",
    "        \n",
    "        \n",
    "        video_name = os.path.basename(video_path)\n",
    "        partie_a_supp=\".avi\"\n",
    "        nv_nom_video=video_name.replace(partie_a_supp,\"\")\n",
    "        nv_folder=os.path.join(output_folder,video_name)\n",
    "        os.mkdir(nv_folder)\n",
    "            \n",
    "       \n",
    "        # Loop through the video and extract each frame\n",
    "        for frame_num in range(total_frames):\n",
    "            # Read the frame\n",
    "            ret, frame = video.read()\n",
    "\n",
    "            # If the frame is not valid, break the loop\n",
    "            if not ret:\n",
    "                break\n",
    "\n",
    "            # Save the frame as an image file\n",
    "          \n",
    "            frame_file = os.path.join(nv_folder, f\"{frame_num}.jpg\")\n",
    "            cv2.imwrite(frame_file, frame)\n",
    "\n",
    "        # Release the video file\n",
    "        video.release()\n",
    " \"\"\"       "
   ]
  },
  {
   "cell_type": "code",
   "execution_count": 7,
   "id": "ad54447f",
   "metadata": {},
   "outputs": [
    {
     "data": {
      "text/plain": [
       "'\\nfor folder in [\\'Fall\\', \\'No Fall\\']:\\n    folder_name = os.path.basename(folder)\\n    nv_folder=os.path.join(output_folder,folder_name)\\n    os.mkdir(nv_folder)\\n    \\n    \\n    folder_path = os.path.join(root_folder, folder)\\n    # Parcourir les sous-dossiers pour trouver toutes les vidéos\\n    for subfolder in os.listdir(folder_path):\\n       \\n        \\n        subfolder_path = os.path.join(folder_path, subfolder)\\n        # Vérifier si le sous-dossier existe et est un dossier\\n        if os.path.isdir(subfolder_path):\\n            # Parcourir les vidéos dans le sous-dossier\\n            for file in os.listdir(subfolder_path):\\n                \\n                # Vérifier si le fichier est une vidéo en vérifiant l\\'extension du fichier\\n                if file.endswith(\\'.mp4\\') or file.endswith(\\'.avi\\'):\\n                    # Définir le chemin complet du fichier vidéo\\n                    video_path = os.path.join(subfolder_path, file)\\n                    # Ouvrir le fichier vidéo\\n                    video = cv2.VideoCapture(video_path)\\n                     # Get the frames per second (fps) and the total number of frames\\n                    fps = video.get(cv2.CAP_PROP_FPS)\\n                    total_frames = int(video.get(cv2.CAP_PROP_FRAME_COUNT))\\n                    # Loop through the video and extract each frame\\n                    image_count = 0\\n                    video_name = os.path.basename(file)\\n                    partie_a_supp=\".avi\"\\n                    nv_nom_video=video_name.replace(partie_a_supp,\"\")\\n                    nv_folder_video=os.path.join(nv_folder,nv_nom_video)\\n                    os.mkdir(nv_folder_video)\\n                    for frame_num in range(total_frames):\\n                        # Read the frame\\n                        ret, frame = video.read()\\n\\n                        # If the frame is not valid, break the loop\\n                        if not ret:\\n                            break\\n                        # Définir le nom de fichier pour l\\'image extraite\\n                        output_filename = \\'{}.jpg\\'.format(image_count)\\n                        # Définir le chemin complet de sortie pour l\\'image extraite\\n                        output_path = os.path.join(nv_folder_video, output_filename)\\n                        # Enregistrer l\\'image extraite sur le disque\\n                        cv2.imwrite(output_path, frame)\\n                        # Incrémenter le compteur d\\'images\\n                        image_count += 1\\n                  # Release the video file\\n                video.release() \\n'"
      ]
     },
     "execution_count": 7,
     "metadata": {},
     "output_type": "execute_result"
    }
   ],
   "source": [
    "\"\"\"\n",
    "for folder in ['Fall', 'No Fall']:\n",
    "    folder_name = os.path.basename(folder)\n",
    "    nv_folder=os.path.join(output_folder,folder_name)\n",
    "    os.mkdir(nv_folder)\n",
    "    \n",
    "    \n",
    "    folder_path = os.path.join(root_folder, folder)\n",
    "    # Parcourir les sous-dossiers pour trouver toutes les vidéos\n",
    "    for subfolder in os.listdir(folder_path):\n",
    "       \n",
    "        \n",
    "        subfolder_path = os.path.join(folder_path, subfolder)\n",
    "        # Vérifier si le sous-dossier existe et est un dossier\n",
    "        if os.path.isdir(subfolder_path):\n",
    "            # Parcourir les vidéos dans le sous-dossier\n",
    "            for file in os.listdir(subfolder_path):\n",
    "                \n",
    "                # Vérifier si le fichier est une vidéo en vérifiant l'extension du fichier\n",
    "                if file.endswith('.mp4') or file.endswith('.avi'):\n",
    "                    # Définir le chemin complet du fichier vidéo\n",
    "                    video_path = os.path.join(subfolder_path, file)\n",
    "                    # Ouvrir le fichier vidéo\n",
    "                    video = cv2.VideoCapture(video_path)\n",
    "                     # Get the frames per second (fps) and the total number of frames\n",
    "                    fps = video.get(cv2.CAP_PROP_FPS)\n",
    "                    total_frames = int(video.get(cv2.CAP_PROP_FRAME_COUNT))\n",
    "                    # Loop through the video and extract each frame\n",
    "                    image_count = 0\n",
    "                    video_name = os.path.basename(file)\n",
    "                    partie_a_supp=\".avi\"\n",
    "                    nv_nom_video=video_name.replace(partie_a_supp,\"\")\n",
    "                    nv_folder_video=os.path.join(nv_folder,nv_nom_video)\n",
    "                    os.mkdir(nv_folder_video)\n",
    "                    for frame_num in range(total_frames):\n",
    "                        # Read the frame\n",
    "                        ret, frame = video.read()\n",
    "\n",
    "                        # If the frame is not valid, break the loop\n",
    "                        if not ret:\n",
    "                            break\n",
    "                        # Définir le nom de fichier pour l'image extraite\n",
    "                        output_filename = '{}.jpg'.format(image_count)\n",
    "                        # Définir le chemin complet de sortie pour l'image extraite\n",
    "                        output_path = os.path.join(nv_folder_video, output_filename)\n",
    "                        # Enregistrer l'image extraite sur le disque\n",
    "                        cv2.imwrite(output_path, frame)\n",
    "                        # Incrémenter le compteur d'images\n",
    "                        image_count += 1\n",
    "                  # Release the video file\n",
    "                video.release() \n",
    "\"\"\"            "
   ]
  },
  {
   "cell_type": "code",
   "execution_count": 8,
   "id": "bbbe04da",
   "metadata": {},
   "outputs": [],
   "source": [
    "\n",
    "\n",
    "def get_bounding(root):\n",
    "    # Load YOLOv5 model\n",
    "    model = torch.hub.load('ultralytics/yolov5', 'yolov5s', pretrained=True)\n",
    "\n",
    "    # Set device (CPU/GPU)\n",
    "    device = torch.device('cuda') if torch.cuda.is_available() else torch.device('cpu')\n",
    "    model.to(device)\n",
    "    \n",
    "    for dirpath, dirnames, filenames in os.walk(root):\n",
    "        coords = []\n",
    "        for dirname in dirnames:\n",
    "            current_dir = os.path.join(dirpath, dirname)\n",
    "            boxes = []\n",
    "            for filename in os.listdir(current_dir):\n",
    "                file_path = os.path.join(current_dir, filename)\n",
    "                img_array = cv2.cvtColor(cv2.imread(file_path), cv2.COLOR_BGR2RGB)\n",
    "                results = model(img_array)\n",
    "                tensor = results.xyxy[0]\n",
    "                mask = tensor[:, -1] == 0\n",
    "                rows_with_zero = tensor[mask]\n",
    "                resu1 = rows_with_zero[:, :4]\n",
    "                b = resu1.numpy()\n",
    "                b = b.flatten()\n",
    "                boxes.append(b)\n",
    "                \n",
    "                \n",
    "                \n",
    "            boxes = np.array(boxes)\n",
    "            boxes=boxes.flatten()\n",
    "            print(boxes)\n",
    "            print(\"bb\")\n",
    "            boxes=[]\n",
    "    return coords\n"
   ]
  },
  {
   "cell_type": "code",
   "execution_count": 9,
   "id": "54938b5d",
   "metadata": {},
   "outputs": [
    {
     "data": {
      "text/plain": [
       "' \\n\\nroot_Fall = \"dataset/output/No Fall/\"\\n\\n\\n# Parcourir le dossier racine et ses sous-dossiers\\nfor dirpath, dirnames, filenames in os.walk(root_Fall):\\n    \\n    for dirname in dirnames:\\n       \\n        current_dir = os.path.join(dirpath, dirname)\\n        \\n        for filename in os.listdir(current_dir):\\n            \\n            file_path = os.path.join(current_dir, filename)\\n            print(file_path)    \\n            image = cv2.imread(file_path)\\n               \\n'"
      ]
     },
     "execution_count": 9,
     "metadata": {},
     "output_type": "execute_result"
    }
   ],
   "source": [
    "\n",
    "\"\"\" \n",
    "\n",
    "root_Fall = \"dataset/output/No Fall/\"\n",
    "\n",
    "\n",
    "# Parcourir le dossier racine et ses sous-dossiers\n",
    "for dirpath, dirnames, filenames in os.walk(root_Fall):\n",
    "    \n",
    "    for dirname in dirnames:\n",
    "       \n",
    "        current_dir = os.path.join(dirpath, dirname)\n",
    "        \n",
    "        for filename in os.listdir(current_dir):\n",
    "            \n",
    "            file_path = os.path.join(current_dir, filename)\n",
    "            print(file_path)    \n",
    "            image = cv2.imread(file_path)\n",
    "               \n",
    "\"\"\"          \n",
    "\n"
   ]
  },
  {
   "cell_type": "code",
   "execution_count": 15,
   "id": "1bdb2982",
   "metadata": {},
   "outputs": [
    {
     "ename": "URLError",
     "evalue": "<urlopen error [Errno 11001] getaddrinfo failed>",
     "output_type": "error",
     "traceback": [
      "\u001b[1;31m---------------------------------------------------------------------------\u001b[0m",
      "\u001b[1;31mgaierror\u001b[0m                                  Traceback (most recent call last)",
      "\u001b[1;32m~\\anaconda3\\lib\\urllib\\request.py\u001b[0m in \u001b[0;36mdo_open\u001b[1;34m(self, http_class, req, **http_conn_args)\u001b[0m\n\u001b[0;32m   1345\u001b[0m             \u001b[1;32mtry\u001b[0m\u001b[1;33m:\u001b[0m\u001b[1;33m\u001b[0m\u001b[1;33m\u001b[0m\u001b[0m\n\u001b[1;32m-> 1346\u001b[1;33m                 h.request(req.get_method(), req.selector, req.data, headers,\n\u001b[0m\u001b[0;32m   1347\u001b[0m                           encode_chunked=req.has_header('Transfer-encoding'))\n",
      "\u001b[1;32m~\\anaconda3\\lib\\http\\client.py\u001b[0m in \u001b[0;36mrequest\u001b[1;34m(self, method, url, body, headers, encode_chunked)\u001b[0m\n\u001b[0;32m   1278\u001b[0m         \u001b[1;34m\"\"\"Send a complete request to the server.\"\"\"\u001b[0m\u001b[1;33m\u001b[0m\u001b[1;33m\u001b[0m\u001b[0m\n\u001b[1;32m-> 1279\u001b[1;33m         \u001b[0mself\u001b[0m\u001b[1;33m.\u001b[0m\u001b[0m_send_request\u001b[0m\u001b[1;33m(\u001b[0m\u001b[0mmethod\u001b[0m\u001b[1;33m,\u001b[0m \u001b[0murl\u001b[0m\u001b[1;33m,\u001b[0m \u001b[0mbody\u001b[0m\u001b[1;33m,\u001b[0m \u001b[0mheaders\u001b[0m\u001b[1;33m,\u001b[0m \u001b[0mencode_chunked\u001b[0m\u001b[1;33m)\u001b[0m\u001b[1;33m\u001b[0m\u001b[1;33m\u001b[0m\u001b[0m\n\u001b[0m\u001b[0;32m   1280\u001b[0m \u001b[1;33m\u001b[0m\u001b[0m\n",
      "\u001b[1;32m~\\anaconda3\\lib\\http\\client.py\u001b[0m in \u001b[0;36m_send_request\u001b[1;34m(self, method, url, body, headers, encode_chunked)\u001b[0m\n\u001b[0;32m   1324\u001b[0m             \u001b[0mbody\u001b[0m \u001b[1;33m=\u001b[0m \u001b[0m_encode\u001b[0m\u001b[1;33m(\u001b[0m\u001b[0mbody\u001b[0m\u001b[1;33m,\u001b[0m \u001b[1;34m'body'\u001b[0m\u001b[1;33m)\u001b[0m\u001b[1;33m\u001b[0m\u001b[1;33m\u001b[0m\u001b[0m\n\u001b[1;32m-> 1325\u001b[1;33m         \u001b[0mself\u001b[0m\u001b[1;33m.\u001b[0m\u001b[0mendheaders\u001b[0m\u001b[1;33m(\u001b[0m\u001b[0mbody\u001b[0m\u001b[1;33m,\u001b[0m \u001b[0mencode_chunked\u001b[0m\u001b[1;33m=\u001b[0m\u001b[0mencode_chunked\u001b[0m\u001b[1;33m)\u001b[0m\u001b[1;33m\u001b[0m\u001b[1;33m\u001b[0m\u001b[0m\n\u001b[0m\u001b[0;32m   1326\u001b[0m \u001b[1;33m\u001b[0m\u001b[0m\n",
      "\u001b[1;32m~\\anaconda3\\lib\\http\\client.py\u001b[0m in \u001b[0;36mendheaders\u001b[1;34m(self, message_body, encode_chunked)\u001b[0m\n\u001b[0;32m   1273\u001b[0m             \u001b[1;32mraise\u001b[0m \u001b[0mCannotSendHeader\u001b[0m\u001b[1;33m(\u001b[0m\u001b[1;33m)\u001b[0m\u001b[1;33m\u001b[0m\u001b[1;33m\u001b[0m\u001b[0m\n\u001b[1;32m-> 1274\u001b[1;33m         \u001b[0mself\u001b[0m\u001b[1;33m.\u001b[0m\u001b[0m_send_output\u001b[0m\u001b[1;33m(\u001b[0m\u001b[0mmessage_body\u001b[0m\u001b[1;33m,\u001b[0m \u001b[0mencode_chunked\u001b[0m\u001b[1;33m=\u001b[0m\u001b[0mencode_chunked\u001b[0m\u001b[1;33m)\u001b[0m\u001b[1;33m\u001b[0m\u001b[1;33m\u001b[0m\u001b[0m\n\u001b[0m\u001b[0;32m   1275\u001b[0m \u001b[1;33m\u001b[0m\u001b[0m\n",
      "\u001b[1;32m~\\anaconda3\\lib\\http\\client.py\u001b[0m in \u001b[0;36m_send_output\u001b[1;34m(self, message_body, encode_chunked)\u001b[0m\n\u001b[0;32m   1033\u001b[0m         \u001b[1;32mdel\u001b[0m \u001b[0mself\u001b[0m\u001b[1;33m.\u001b[0m\u001b[0m_buffer\u001b[0m\u001b[1;33m[\u001b[0m\u001b[1;33m:\u001b[0m\u001b[1;33m]\u001b[0m\u001b[1;33m\u001b[0m\u001b[1;33m\u001b[0m\u001b[0m\n\u001b[1;32m-> 1034\u001b[1;33m         \u001b[0mself\u001b[0m\u001b[1;33m.\u001b[0m\u001b[0msend\u001b[0m\u001b[1;33m(\u001b[0m\u001b[0mmsg\u001b[0m\u001b[1;33m)\u001b[0m\u001b[1;33m\u001b[0m\u001b[1;33m\u001b[0m\u001b[0m\n\u001b[0m\u001b[0;32m   1035\u001b[0m \u001b[1;33m\u001b[0m\u001b[0m\n",
      "\u001b[1;32m~\\anaconda3\\lib\\http\\client.py\u001b[0m in \u001b[0;36msend\u001b[1;34m(self, data)\u001b[0m\n\u001b[0;32m    973\u001b[0m             \u001b[1;32mif\u001b[0m \u001b[0mself\u001b[0m\u001b[1;33m.\u001b[0m\u001b[0mauto_open\u001b[0m\u001b[1;33m:\u001b[0m\u001b[1;33m\u001b[0m\u001b[1;33m\u001b[0m\u001b[0m\n\u001b[1;32m--> 974\u001b[1;33m                 \u001b[0mself\u001b[0m\u001b[1;33m.\u001b[0m\u001b[0mconnect\u001b[0m\u001b[1;33m(\u001b[0m\u001b[1;33m)\u001b[0m\u001b[1;33m\u001b[0m\u001b[1;33m\u001b[0m\u001b[0m\n\u001b[0m\u001b[0;32m    975\u001b[0m             \u001b[1;32melse\u001b[0m\u001b[1;33m:\u001b[0m\u001b[1;33m\u001b[0m\u001b[1;33m\u001b[0m\u001b[0m\n",
      "\u001b[1;32m~\\anaconda3\\lib\\http\\client.py\u001b[0m in \u001b[0;36mconnect\u001b[1;34m(self)\u001b[0m\n\u001b[0;32m   1440\u001b[0m \u001b[1;33m\u001b[0m\u001b[0m\n\u001b[1;32m-> 1441\u001b[1;33m             \u001b[0msuper\u001b[0m\u001b[1;33m(\u001b[0m\u001b[1;33m)\u001b[0m\u001b[1;33m.\u001b[0m\u001b[0mconnect\u001b[0m\u001b[1;33m(\u001b[0m\u001b[1;33m)\u001b[0m\u001b[1;33m\u001b[0m\u001b[1;33m\u001b[0m\u001b[0m\n\u001b[0m\u001b[0;32m   1442\u001b[0m \u001b[1;33m\u001b[0m\u001b[0m\n",
      "\u001b[1;32m~\\anaconda3\\lib\\http\\client.py\u001b[0m in \u001b[0;36mconnect\u001b[1;34m(self)\u001b[0m\n\u001b[0;32m    944\u001b[0m         \u001b[1;34m\"\"\"Connect to the host and port specified in __init__.\"\"\"\u001b[0m\u001b[1;33m\u001b[0m\u001b[1;33m\u001b[0m\u001b[0m\n\u001b[1;32m--> 945\u001b[1;33m         self.sock = self._create_connection(\n\u001b[0m\u001b[0;32m    946\u001b[0m             (self.host,self.port), self.timeout, self.source_address)\n",
      "\u001b[1;32m~\\anaconda3\\lib\\socket.py\u001b[0m in \u001b[0;36mcreate_connection\u001b[1;34m(address, timeout, source_address)\u001b[0m\n\u001b[0;32m    822\u001b[0m     \u001b[0merr\u001b[0m \u001b[1;33m=\u001b[0m \u001b[1;32mNone\u001b[0m\u001b[1;33m\u001b[0m\u001b[1;33m\u001b[0m\u001b[0m\n\u001b[1;32m--> 823\u001b[1;33m     \u001b[1;32mfor\u001b[0m \u001b[0mres\u001b[0m \u001b[1;32min\u001b[0m \u001b[0mgetaddrinfo\u001b[0m\u001b[1;33m(\u001b[0m\u001b[0mhost\u001b[0m\u001b[1;33m,\u001b[0m \u001b[0mport\u001b[0m\u001b[1;33m,\u001b[0m \u001b[1;36m0\u001b[0m\u001b[1;33m,\u001b[0m \u001b[0mSOCK_STREAM\u001b[0m\u001b[1;33m)\u001b[0m\u001b[1;33m:\u001b[0m\u001b[1;33m\u001b[0m\u001b[1;33m\u001b[0m\u001b[0m\n\u001b[0m\u001b[0;32m    824\u001b[0m         \u001b[0maf\u001b[0m\u001b[1;33m,\u001b[0m \u001b[0msocktype\u001b[0m\u001b[1;33m,\u001b[0m \u001b[0mproto\u001b[0m\u001b[1;33m,\u001b[0m \u001b[0mcanonname\u001b[0m\u001b[1;33m,\u001b[0m \u001b[0msa\u001b[0m \u001b[1;33m=\u001b[0m \u001b[0mres\u001b[0m\u001b[1;33m\u001b[0m\u001b[1;33m\u001b[0m\u001b[0m\n",
      "\u001b[1;32m~\\anaconda3\\lib\\socket.py\u001b[0m in \u001b[0;36mgetaddrinfo\u001b[1;34m(host, port, family, type, proto, flags)\u001b[0m\n\u001b[0;32m    953\u001b[0m     \u001b[0maddrlist\u001b[0m \u001b[1;33m=\u001b[0m \u001b[1;33m[\u001b[0m\u001b[1;33m]\u001b[0m\u001b[1;33m\u001b[0m\u001b[1;33m\u001b[0m\u001b[0m\n\u001b[1;32m--> 954\u001b[1;33m     \u001b[1;32mfor\u001b[0m \u001b[0mres\u001b[0m \u001b[1;32min\u001b[0m \u001b[0m_socket\u001b[0m\u001b[1;33m.\u001b[0m\u001b[0mgetaddrinfo\u001b[0m\u001b[1;33m(\u001b[0m\u001b[0mhost\u001b[0m\u001b[1;33m,\u001b[0m \u001b[0mport\u001b[0m\u001b[1;33m,\u001b[0m \u001b[0mfamily\u001b[0m\u001b[1;33m,\u001b[0m \u001b[0mtype\u001b[0m\u001b[1;33m,\u001b[0m \u001b[0mproto\u001b[0m\u001b[1;33m,\u001b[0m \u001b[0mflags\u001b[0m\u001b[1;33m)\u001b[0m\u001b[1;33m:\u001b[0m\u001b[1;33m\u001b[0m\u001b[1;33m\u001b[0m\u001b[0m\n\u001b[0m\u001b[0;32m    955\u001b[0m         \u001b[0maf\u001b[0m\u001b[1;33m,\u001b[0m \u001b[0msocktype\u001b[0m\u001b[1;33m,\u001b[0m \u001b[0mproto\u001b[0m\u001b[1;33m,\u001b[0m \u001b[0mcanonname\u001b[0m\u001b[1;33m,\u001b[0m \u001b[0msa\u001b[0m \u001b[1;33m=\u001b[0m \u001b[0mres\u001b[0m\u001b[1;33m\u001b[0m\u001b[1;33m\u001b[0m\u001b[0m\n",
      "\u001b[1;31mgaierror\u001b[0m: [Errno 11001] getaddrinfo failed",
      "\nDuring handling of the above exception, another exception occurred:\n",
      "\u001b[1;31mURLError\u001b[0m                                  Traceback (most recent call last)",
      "\u001b[1;32mC:\\Users\\HABIB-~1\\AppData\\Local\\Temp/ipykernel_12496/3098736814.py\u001b[0m in \u001b[0;36m<module>\u001b[1;34m\u001b[0m\n\u001b[0;32m      1\u001b[0m \u001b[0mroot\u001b[0m\u001b[1;33m=\u001b[0m\u001b[1;34m\"dataset/output/Fall/\"\u001b[0m\u001b[1;33m\u001b[0m\u001b[1;33m\u001b[0m\u001b[0m\n\u001b[1;32m----> 2\u001b[1;33m \u001b[0md\u001b[0m\u001b[1;33m=\u001b[0m\u001b[0mget_bounding\u001b[0m\u001b[1;33m(\u001b[0m\u001b[0mroot\u001b[0m\u001b[1;33m)\u001b[0m\u001b[1;33m\u001b[0m\u001b[1;33m\u001b[0m\u001b[0m\n\u001b[0m",
      "\u001b[1;32mC:\\Users\\HABIB-~1\\AppData\\Local\\Temp/ipykernel_12496/3394912169.py\u001b[0m in \u001b[0;36mget_bounding\u001b[1;34m(root)\u001b[0m\n\u001b[0;32m      1\u001b[0m \u001b[1;32mdef\u001b[0m \u001b[0mget_bounding\u001b[0m\u001b[1;33m(\u001b[0m\u001b[0mroot\u001b[0m\u001b[1;33m)\u001b[0m\u001b[1;33m:\u001b[0m\u001b[1;33m\u001b[0m\u001b[1;33m\u001b[0m\u001b[0m\n\u001b[0;32m      2\u001b[0m     \u001b[1;31m# Load YOLOv5 model\u001b[0m\u001b[1;33m\u001b[0m\u001b[1;33m\u001b[0m\u001b[0m\n\u001b[1;32m----> 3\u001b[1;33m     \u001b[0mmodel\u001b[0m \u001b[1;33m=\u001b[0m \u001b[0mtorch\u001b[0m\u001b[1;33m.\u001b[0m\u001b[0mhub\u001b[0m\u001b[1;33m.\u001b[0m\u001b[0mload\u001b[0m\u001b[1;33m(\u001b[0m\u001b[1;34m'ultralytics/yolov5'\u001b[0m\u001b[1;33m,\u001b[0m \u001b[1;34m'yolov5s'\u001b[0m\u001b[1;33m,\u001b[0m \u001b[0mpretrained\u001b[0m\u001b[1;33m=\u001b[0m\u001b[1;32mTrue\u001b[0m\u001b[1;33m)\u001b[0m\u001b[1;33m\u001b[0m\u001b[1;33m\u001b[0m\u001b[0m\n\u001b[0m\u001b[0;32m      4\u001b[0m \u001b[1;33m\u001b[0m\u001b[0m\n\u001b[0;32m      5\u001b[0m     \u001b[1;31m# Set device (CPU/GPU)\u001b[0m\u001b[1;33m\u001b[0m\u001b[1;33m\u001b[0m\u001b[0m\n",
      "\u001b[1;32m~\\anaconda3\\lib\\site-packages\\torch\\hub.py\u001b[0m in \u001b[0;36mload\u001b[1;34m(repo_or_dir, model, source, trust_repo, force_reload, verbose, skip_validation, *args, **kwargs)\u001b[0m\n\u001b[0;32m    535\u001b[0m \u001b[1;33m\u001b[0m\u001b[0m\n\u001b[0;32m    536\u001b[0m     \u001b[1;32mif\u001b[0m \u001b[0msource\u001b[0m \u001b[1;33m==\u001b[0m \u001b[1;34m'github'\u001b[0m\u001b[1;33m:\u001b[0m\u001b[1;33m\u001b[0m\u001b[1;33m\u001b[0m\u001b[0m\n\u001b[1;32m--> 537\u001b[1;33m         repo_or_dir = _get_cache_or_reload(repo_or_dir, force_reload, trust_repo, \"load\",\n\u001b[0m\u001b[0;32m    538\u001b[0m                                            verbose=verbose, skip_validation=skip_validation)\n\u001b[0;32m    539\u001b[0m \u001b[1;33m\u001b[0m\u001b[0m\n",
      "\u001b[1;32m~\\anaconda3\\lib\\site-packages\\torch\\hub.py\u001b[0m in \u001b[0;36m_get_cache_or_reload\u001b[1;34m(github, force_reload, trust_repo, calling_fn, verbose, skip_validation)\u001b[0m\n\u001b[0;32m    178\u001b[0m         \u001b[0mos\u001b[0m\u001b[1;33m.\u001b[0m\u001b[0mmakedirs\u001b[0m\u001b[1;33m(\u001b[0m\u001b[0mhub_dir\u001b[0m\u001b[1;33m)\u001b[0m\u001b[1;33m\u001b[0m\u001b[1;33m\u001b[0m\u001b[0m\n\u001b[0;32m    179\u001b[0m     \u001b[1;31m# Parse github repo information\u001b[0m\u001b[1;33m\u001b[0m\u001b[1;33m\u001b[0m\u001b[0m\n\u001b[1;32m--> 180\u001b[1;33m     \u001b[0mrepo_owner\u001b[0m\u001b[1;33m,\u001b[0m \u001b[0mrepo_name\u001b[0m\u001b[1;33m,\u001b[0m \u001b[0mref\u001b[0m \u001b[1;33m=\u001b[0m \u001b[0m_parse_repo_info\u001b[0m\u001b[1;33m(\u001b[0m\u001b[0mgithub\u001b[0m\u001b[1;33m)\u001b[0m\u001b[1;33m\u001b[0m\u001b[1;33m\u001b[0m\u001b[0m\n\u001b[0m\u001b[0;32m    181\u001b[0m     \u001b[1;31m# Github allows branch name with slash '/',\u001b[0m\u001b[1;33m\u001b[0m\u001b[1;33m\u001b[0m\u001b[0m\n\u001b[0;32m    182\u001b[0m     \u001b[1;31m# this causes confusion with path on both Linux and Windows.\u001b[0m\u001b[1;33m\u001b[0m\u001b[1;33m\u001b[0m\u001b[0m\n",
      "\u001b[1;32m~\\anaconda3\\lib\\site-packages\\torch\\hub.py\u001b[0m in \u001b[0;36m_parse_repo_info\u001b[1;34m(github)\u001b[0m\n\u001b[0;32m    131\u001b[0m         \u001b[1;31m# then it's the default branch, otherwise it's master.\u001b[0m\u001b[1;33m\u001b[0m\u001b[1;33m\u001b[0m\u001b[0m\n\u001b[0;32m    132\u001b[0m         \u001b[1;32mtry\u001b[0m\u001b[1;33m:\u001b[0m\u001b[1;33m\u001b[0m\u001b[1;33m\u001b[0m\u001b[0m\n\u001b[1;32m--> 133\u001b[1;33m             \u001b[1;32mwith\u001b[0m \u001b[0murlopen\u001b[0m\u001b[1;33m(\u001b[0m\u001b[1;34mf\"https://github.com/{repo_owner}/{repo_name}/tree/main/\"\u001b[0m\u001b[1;33m)\u001b[0m\u001b[1;33m:\u001b[0m\u001b[1;33m\u001b[0m\u001b[1;33m\u001b[0m\u001b[0m\n\u001b[0m\u001b[0;32m    134\u001b[0m                 \u001b[0mref\u001b[0m \u001b[1;33m=\u001b[0m \u001b[1;34m'main'\u001b[0m\u001b[1;33m\u001b[0m\u001b[1;33m\u001b[0m\u001b[0m\n\u001b[0;32m    135\u001b[0m         \u001b[1;32mexcept\u001b[0m \u001b[0mHTTPError\u001b[0m \u001b[1;32mas\u001b[0m \u001b[0me\u001b[0m\u001b[1;33m:\u001b[0m\u001b[1;33m\u001b[0m\u001b[1;33m\u001b[0m\u001b[0m\n",
      "\u001b[1;32m~\\anaconda3\\lib\\urllib\\request.py\u001b[0m in \u001b[0;36murlopen\u001b[1;34m(url, data, timeout, cafile, capath, cadefault, context)\u001b[0m\n\u001b[0;32m    212\u001b[0m     \u001b[1;32melse\u001b[0m\u001b[1;33m:\u001b[0m\u001b[1;33m\u001b[0m\u001b[1;33m\u001b[0m\u001b[0m\n\u001b[0;32m    213\u001b[0m         \u001b[0mopener\u001b[0m \u001b[1;33m=\u001b[0m \u001b[0m_opener\u001b[0m\u001b[1;33m\u001b[0m\u001b[1;33m\u001b[0m\u001b[0m\n\u001b[1;32m--> 214\u001b[1;33m     \u001b[1;32mreturn\u001b[0m \u001b[0mopener\u001b[0m\u001b[1;33m.\u001b[0m\u001b[0mopen\u001b[0m\u001b[1;33m(\u001b[0m\u001b[0murl\u001b[0m\u001b[1;33m,\u001b[0m \u001b[0mdata\u001b[0m\u001b[1;33m,\u001b[0m \u001b[0mtimeout\u001b[0m\u001b[1;33m)\u001b[0m\u001b[1;33m\u001b[0m\u001b[1;33m\u001b[0m\u001b[0m\n\u001b[0m\u001b[0;32m    215\u001b[0m \u001b[1;33m\u001b[0m\u001b[0m\n\u001b[0;32m    216\u001b[0m \u001b[1;32mdef\u001b[0m \u001b[0minstall_opener\u001b[0m\u001b[1;33m(\u001b[0m\u001b[0mopener\u001b[0m\u001b[1;33m)\u001b[0m\u001b[1;33m:\u001b[0m\u001b[1;33m\u001b[0m\u001b[1;33m\u001b[0m\u001b[0m\n",
      "\u001b[1;32m~\\anaconda3\\lib\\urllib\\request.py\u001b[0m in \u001b[0;36mopen\u001b[1;34m(self, fullurl, data, timeout)\u001b[0m\n\u001b[0;32m    515\u001b[0m \u001b[1;33m\u001b[0m\u001b[0m\n\u001b[0;32m    516\u001b[0m         \u001b[0msys\u001b[0m\u001b[1;33m.\u001b[0m\u001b[0maudit\u001b[0m\u001b[1;33m(\u001b[0m\u001b[1;34m'urllib.Request'\u001b[0m\u001b[1;33m,\u001b[0m \u001b[0mreq\u001b[0m\u001b[1;33m.\u001b[0m\u001b[0mfull_url\u001b[0m\u001b[1;33m,\u001b[0m \u001b[0mreq\u001b[0m\u001b[1;33m.\u001b[0m\u001b[0mdata\u001b[0m\u001b[1;33m,\u001b[0m \u001b[0mreq\u001b[0m\u001b[1;33m.\u001b[0m\u001b[0mheaders\u001b[0m\u001b[1;33m,\u001b[0m \u001b[0mreq\u001b[0m\u001b[1;33m.\u001b[0m\u001b[0mget_method\u001b[0m\u001b[1;33m(\u001b[0m\u001b[1;33m)\u001b[0m\u001b[1;33m)\u001b[0m\u001b[1;33m\u001b[0m\u001b[1;33m\u001b[0m\u001b[0m\n\u001b[1;32m--> 517\u001b[1;33m         \u001b[0mresponse\u001b[0m \u001b[1;33m=\u001b[0m \u001b[0mself\u001b[0m\u001b[1;33m.\u001b[0m\u001b[0m_open\u001b[0m\u001b[1;33m(\u001b[0m\u001b[0mreq\u001b[0m\u001b[1;33m,\u001b[0m \u001b[0mdata\u001b[0m\u001b[1;33m)\u001b[0m\u001b[1;33m\u001b[0m\u001b[1;33m\u001b[0m\u001b[0m\n\u001b[0m\u001b[0;32m    518\u001b[0m \u001b[1;33m\u001b[0m\u001b[0m\n\u001b[0;32m    519\u001b[0m         \u001b[1;31m# post-process response\u001b[0m\u001b[1;33m\u001b[0m\u001b[1;33m\u001b[0m\u001b[0m\n",
      "\u001b[1;32m~\\anaconda3\\lib\\urllib\\request.py\u001b[0m in \u001b[0;36m_open\u001b[1;34m(self, req, data)\u001b[0m\n\u001b[0;32m    532\u001b[0m \u001b[1;33m\u001b[0m\u001b[0m\n\u001b[0;32m    533\u001b[0m         \u001b[0mprotocol\u001b[0m \u001b[1;33m=\u001b[0m \u001b[0mreq\u001b[0m\u001b[1;33m.\u001b[0m\u001b[0mtype\u001b[0m\u001b[1;33m\u001b[0m\u001b[1;33m\u001b[0m\u001b[0m\n\u001b[1;32m--> 534\u001b[1;33m         result = self._call_chain(self.handle_open, protocol, protocol +\n\u001b[0m\u001b[0;32m    535\u001b[0m                                   '_open', req)\n\u001b[0;32m    536\u001b[0m         \u001b[1;32mif\u001b[0m \u001b[0mresult\u001b[0m\u001b[1;33m:\u001b[0m\u001b[1;33m\u001b[0m\u001b[1;33m\u001b[0m\u001b[0m\n",
      "\u001b[1;32m~\\anaconda3\\lib\\urllib\\request.py\u001b[0m in \u001b[0;36m_call_chain\u001b[1;34m(self, chain, kind, meth_name, *args)\u001b[0m\n\u001b[0;32m    492\u001b[0m         \u001b[1;32mfor\u001b[0m \u001b[0mhandler\u001b[0m \u001b[1;32min\u001b[0m \u001b[0mhandlers\u001b[0m\u001b[1;33m:\u001b[0m\u001b[1;33m\u001b[0m\u001b[1;33m\u001b[0m\u001b[0m\n\u001b[0;32m    493\u001b[0m             \u001b[0mfunc\u001b[0m \u001b[1;33m=\u001b[0m \u001b[0mgetattr\u001b[0m\u001b[1;33m(\u001b[0m\u001b[0mhandler\u001b[0m\u001b[1;33m,\u001b[0m \u001b[0mmeth_name\u001b[0m\u001b[1;33m)\u001b[0m\u001b[1;33m\u001b[0m\u001b[1;33m\u001b[0m\u001b[0m\n\u001b[1;32m--> 494\u001b[1;33m             \u001b[0mresult\u001b[0m \u001b[1;33m=\u001b[0m \u001b[0mfunc\u001b[0m\u001b[1;33m(\u001b[0m\u001b[1;33m*\u001b[0m\u001b[0margs\u001b[0m\u001b[1;33m)\u001b[0m\u001b[1;33m\u001b[0m\u001b[1;33m\u001b[0m\u001b[0m\n\u001b[0m\u001b[0;32m    495\u001b[0m             \u001b[1;32mif\u001b[0m \u001b[0mresult\u001b[0m \u001b[1;32mis\u001b[0m \u001b[1;32mnot\u001b[0m \u001b[1;32mNone\u001b[0m\u001b[1;33m:\u001b[0m\u001b[1;33m\u001b[0m\u001b[1;33m\u001b[0m\u001b[0m\n\u001b[0;32m    496\u001b[0m                 \u001b[1;32mreturn\u001b[0m \u001b[0mresult\u001b[0m\u001b[1;33m\u001b[0m\u001b[1;33m\u001b[0m\u001b[0m\n",
      "\u001b[1;32m~\\anaconda3\\lib\\urllib\\request.py\u001b[0m in \u001b[0;36mhttps_open\u001b[1;34m(self, req)\u001b[0m\n\u001b[0;32m   1387\u001b[0m \u001b[1;33m\u001b[0m\u001b[0m\n\u001b[0;32m   1388\u001b[0m         \u001b[1;32mdef\u001b[0m \u001b[0mhttps_open\u001b[0m\u001b[1;33m(\u001b[0m\u001b[0mself\u001b[0m\u001b[1;33m,\u001b[0m \u001b[0mreq\u001b[0m\u001b[1;33m)\u001b[0m\u001b[1;33m:\u001b[0m\u001b[1;33m\u001b[0m\u001b[1;33m\u001b[0m\u001b[0m\n\u001b[1;32m-> 1389\u001b[1;33m             return self.do_open(http.client.HTTPSConnection, req,\n\u001b[0m\u001b[0;32m   1390\u001b[0m                 context=self._context, check_hostname=self._check_hostname)\n\u001b[0;32m   1391\u001b[0m \u001b[1;33m\u001b[0m\u001b[0m\n",
      "\u001b[1;32m~\\anaconda3\\lib\\urllib\\request.py\u001b[0m in \u001b[0;36mdo_open\u001b[1;34m(self, http_class, req, **http_conn_args)\u001b[0m\n\u001b[0;32m   1347\u001b[0m                           encode_chunked=req.has_header('Transfer-encoding'))\n\u001b[0;32m   1348\u001b[0m             \u001b[1;32mexcept\u001b[0m \u001b[0mOSError\u001b[0m \u001b[1;32mas\u001b[0m \u001b[0merr\u001b[0m\u001b[1;33m:\u001b[0m \u001b[1;31m# timeout error\u001b[0m\u001b[1;33m\u001b[0m\u001b[1;33m\u001b[0m\u001b[0m\n\u001b[1;32m-> 1349\u001b[1;33m                 \u001b[1;32mraise\u001b[0m \u001b[0mURLError\u001b[0m\u001b[1;33m(\u001b[0m\u001b[0merr\u001b[0m\u001b[1;33m)\u001b[0m\u001b[1;33m\u001b[0m\u001b[1;33m\u001b[0m\u001b[0m\n\u001b[0m\u001b[0;32m   1350\u001b[0m             \u001b[0mr\u001b[0m \u001b[1;33m=\u001b[0m \u001b[0mh\u001b[0m\u001b[1;33m.\u001b[0m\u001b[0mgetresponse\u001b[0m\u001b[1;33m(\u001b[0m\u001b[1;33m)\u001b[0m\u001b[1;33m\u001b[0m\u001b[1;33m\u001b[0m\u001b[0m\n\u001b[0;32m   1351\u001b[0m         \u001b[1;32mexcept\u001b[0m\u001b[1;33m:\u001b[0m\u001b[1;33m\u001b[0m\u001b[1;33m\u001b[0m\u001b[0m\n",
      "\u001b[1;31mURLError\u001b[0m: <urlopen error [Errno 11001] getaddrinfo failed>"
     ]
    }
   ],
   "source": [
    "root=\"dataset/output/Fall/\"\n",
    "d=get_bounding(root)\n"
   ]
  },
  {
   "cell_type": "code",
   "execution_count": null,
   "id": "ea5a2c50",
   "metadata": {},
   "outputs": [],
   "source": []
  },
  {
   "cell_type": "code",
   "execution_count": null,
   "id": "f95ccf0e",
   "metadata": {},
   "outputs": [
    {
     "name": "stderr",
     "output_type": "stream",
     "text": [
      "Using cache found in C:\\Users\\HABIB-DESKTOP/.cache\\torch\\hub\\ultralytics_yolov5_master\n",
      "YOLOv5  2023-3-11 Python-3.9.7 torch-1.12.1 CPU\n",
      "\n",
      "Fusing layers... \n",
      "YOLOv5s summary: 213 layers, 7225885 parameters, 0 gradients\n",
      "Adding AutoShape... \n"
     ]
    }
   ],
   "source": [
    "model = torch.hub.load('ultralytics/yolov5', 'yolov5s', pretrained=True)\n",
    "\n",
    "    # Set device (CPU/GPU)\n",
    "device = torch.device('cuda') if torch.cuda.is_available() else torch.device('cpu')\n",
    "model.to(device)\n",
    "    \n",
    "for dirpath, dirnames, filenames in os.walk(root):\n",
    "    coords = []\n",
    "    for dirname in dirnames:\n",
    "        current_dir = os.path.join(dirpath, dirname)\n",
    "        boxes = []\n",
    "        for filename in os.listdir(current_dir):\n",
    "            file_path = os.path.join(current_dir, filename)\n",
    "            img_array = cv2.cvtColor(cv2.imread(file_path), cv2.COLOR_BGR2RGB)\n",
    "            results = model(img_array)\n",
    "            tensor = results.xyxy[0]\n",
    "            mask = tensor[:, -1] == 0\n",
    "            rows_with_zero = tensor[mask]\n",
    "            resu1 = rows_with_zero[:, :4]\n",
    "            img=cv2.imread(file_path)\n",
    "            color = (0, 255, 0)\n",
    "            thickness = 2\n",
    "            for i in resu1:\n",
    "    \n",
    "                start_point = (int(i[0]), int(i[1]))\n",
    "                end_point = (int(i[2]), int(i[3]))\n",
    "                cv2.rectangle(img, start_point, end_point, color, thickness)\n",
    "\n",
    "            # show the image\n",
    "            cv2.imshow(\"Bounding Box\", img)\n",
    "            cv2.waitKey(0)\n",
    "            cv2.destroyAllWindows()\n",
    "            b = resu1.numpy()\n",
    "            b = b.flatten()\n",
    "            boxes.append(b)\n",
    "                \n",
    "                \n",
    "                \n",
    "        boxes = np.array(boxes)\n",
    "        boxes=boxes.flatten()\n",
    "        print(boxes)\n",
    "        print(\"bb\")\n",
    "        boxes=[]"
   ]
  }
 ],
 "metadata": {
  "kernelspec": {
   "display_name": "Python 3 (ipykernel)",
   "language": "python",
   "name": "python3"
  },
  "language_info": {
   "codemirror_mode": {
    "name": "ipython",
    "version": 3
   },
   "file_extension": ".py",
   "mimetype": "text/x-python",
   "name": "python",
   "nbconvert_exporter": "python",
   "pygments_lexer": "ipython3",
   "version": "3.9.7"
  }
 },
 "nbformat": 4,
 "nbformat_minor": 5
}
